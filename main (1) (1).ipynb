{
 "cells": [
  {
   "cell_type": "markdown",
   "id": "5c2c1476",
   "metadata": {},
   "source": [
    "# Проект по Python - анализ данных с Auto.ru\n",
    "##### Проект по курсу «Наука о данных», Совместный бакалавриат ВШЭ-РЭШ\n",
    "\n",
    "##### Автор работы: Артур Хайбрахманов."
   ]
  },
  {
   "cell_type": "markdown",
   "id": "c5983269",
   "metadata": {},
   "source": [
    "### Описание:\n",
    "Этот проект автоматически собирает данные с известного сайта Auto.ru, затем преобразует полученные данные в датафрейм, анализирует их, используя различные математические функции, метод линейной регрессии и визуализацию. В конце можно полюбоваться отмеченными на карте адресами дилерских центров Mercedes в Москве и помечтать о том, чтобы когда-нибудь в них заехать (на БМВ, разумеется).\n",
    "\n",
    "#### Использованные возможности: \n",
    "Продвинутый веб-скреппинг с использованием Selenium, выгрузка данных при помощи BeutifulSoup, продвинутые возможности Pandas, несколько видов визуализации данных при помощи Plotly, интерактивная карта, созданная при помощи folium, линейная регрессия (не смейтесь, мы этого вообще не проходили. Я лично горд собой), а также вагон и маленькая тележка регулярок.\n",
    "\n",
    "В дальнейшем в проекте будут присутствовать текстовые комментарии для более простой навигации.\n"
   ]
  },
  {
   "cell_type": "markdown",
   "id": "522f6441",
   "metadata": {},
   "source": [
    "Сначала подключим библиотеки - нужные и ненужные:"
   ]
  },
  {
   "cell_type": "code",
   "execution_count": 879,
   "id": "6aeada6b",
   "metadata": {},
   "outputs": [],
   "source": [
    "import matplotlib as mpl\n",
    "import pandas as pd\n",
    "import numpy as np\n",
    "import requests\n",
    "from bs4 import BeautifulSoup\n",
    "from selenium import webdriver\n",
    "from time import sleep\n",
    "from matplotlib import pyplot as plt\n",
    "from selenium.webdriver import Chrome\n",
    "from selenium.webdriver.common.keys import Keys\n",
    "from selenium.webdriver.support.ui import WebDriverWait as wait\n",
    "from selenium.webdriver.common.by import By\n",
    "from tqdm import tqdm\n",
    "import re\n",
    "import folium\n",
    "from sklearn.linear_model import LinearRegression\n",
    "from matplotlib.ticker import FuncFormatter"
   ]
  },
  {
   "cell_type": "markdown",
   "id": "7d9afe9e",
   "metadata": {},
   "source": [
    "Определим функцию, которая будет помогать получать данные с сайта. Эта функция принимает на вход строку с дополнительной информацией об автомобиле и преобразует ее в чуть более читаемый вид"
   ]
  },
  {
   "cell_type": "code",
   "execution_count": 669,
   "id": "b767724f",
   "metadata": {},
   "outputs": [],
   "source": [
    "def get_first_word(s):\n",
    "    pattern = re.compile(r'^([А-ЯЁ][а-яё]*(?:[ -][А-ЯЁ][а-яё]*)*)([А-ЯЁ][а-яё]*)?')\n",
    "    match = pattern.match(s)\n",
    "    if match:\n",
    "        return match.group(1).replace('станция', '')\n",
    "    else:\n",
    "        return s"
   ]
  },
  {
   "cell_type": "markdown",
   "id": "efbf2a29",
   "metadata": {},
   "source": [
    "#### Получаем данные с сайта:\n",
    "Я и супчик заваривал, и selenium использовал. Некоторые данные пришлось отдельно доставать регулярками, потому что они находились в одном блоке (например, информация об объеме двигателя и лошадиных силах). На случай, если каких-то данных недостает, пропишем игнор предупреждений (я проверял, серьезных ошибок не выскакивает). В конце концов, создаем список data и жестко добавляем в него 2 ведра полученной информации."
   ]
  },
  {
   "cell_type": "code",
   "execution_count": 671,
   "id": "a3397987",
   "metadata": {
    "scrolled": true
   },
   "outputs": [],
   "source": [
    "data = []\n",
    "driver = webdriver.Chrome()\n",
    "url = 'https://auto.ru/moskva/cars/all/'\n",
    "driver.get(url)\n",
    "spans = driver.find_element(By.CLASS_NAME, 'TextInput__control')\n",
    "spans.send_keys('Мерседес')\n",
    "sleep(1)\n",
    "spans.send_keys(Keys.ENTER)\n",
    "sleep(3)\n",
    "for p in range(100):\n",
    "    soup = BeautifulSoup(driver.page_source, 'lxml')\n",
    "    cars = soup.findAll('div', class_=\"ListingItem\")\n",
    "    for car in cars:\n",
    "        try:\n",
    "            name = car.find('h3', class_=\"ListingItem__title\").text.strip()\n",
    "            link = car.find('a', class_=\"ListingItemTitle__link\").get('href')\n",
    "            engine_fuel_summary = car.find('div', class_=\"ListingItemTechSummaryDesktop__cell\").text.strip()\n",
    "            engine_capacity = ''.join(re.findall('\\d\\.\\d', engine_fuel_summary))\n",
    "            horsepower = ''.join(re.findall('\\d\\d\\d', engine_fuel_summary))\n",
    "            fuel = ''.join(re.findall('Бензин|Дизель|Газ|Электричество', engine_fuel_summary))\n",
    "            transmission = driver.find_element(By.XPATH, \\\n",
    "                                       '/html/body/div[2]/div/div[2]/div[3]/div[2]/div/div[2]/ \\\n",
    "                                       div/div[10]/div[2]/div/div[2]/div[1]/div/div[1]/div[2]').text\n",
    "            body_type = driver.find_element(By.XPATH, \\\n",
    "                                       '/html/body/div[2]/div/div[2]/div[3]/ \\\n",
    "                                       div[2]/div/div[2]/div/div[10]/div[2]/div/div[2]/div[1]/div/div[1]/div[3]').text\n",
    "            price = car.find('div', class_=\"ListingItem__price\").text.replace('\\xa0', ' ')\n",
    "            if 'от' in price:\n",
    "                price = price.replace('от ', '')\n",
    "            price = int(price.replace(' ₽', '').replace(' ', ''))\n",
    "            year = int(car.find('div', class_=\"ListingItem__yearBlock\").text)\n",
    "            kmAge = car.find('div', class_=\"ListingItem__kmAge\").text.replace('\\xa0', ' ')\n",
    "            location = car.find('div', class_=\"ListingItem__additionalInfo\").text.replace('\\xa0', ' ').strip()\n",
    "            location = get_first_word(location)\n",
    "        except Exception:\n",
    "            pass\n",
    "        finally:\n",
    "            data.append([name, engine_capacity, horsepower, fuel, transmission, body_type, price, kmAge, location, link])\n",
    "    driver.find_element(By.XPATH, '/html/body/div[2]/div/div[2]/div[3]/div[2]/div/div[2]/div/div[11]/div/div/a[2]/span/span').click()\n",
    "    sleep(5)"
   ]
  },
  {
   "cell_type": "markdown",
   "id": "ce34aa4e",
   "metadata": {},
   "source": [
    "Получили 3700 мерседесов. Достаточно, чтобы анализировать"
   ]
  },
  {
   "cell_type": "code",
   "execution_count": 672,
   "id": "0d076bde",
   "metadata": {
    "scrolled": true
   },
   "outputs": [
    {
     "data": {
      "text/plain": [
       "3700"
      ]
     },
     "execution_count": 672,
     "metadata": {},
     "output_type": "execute_result"
    }
   ],
   "source": [
    "len(data)"
   ]
  },
  {
   "cell_type": "markdown",
   "id": "a5857576",
   "metadata": {},
   "source": [
    "Теперь из списка создаем датафрейм. \n",
    "Пришлось немного поковыряться руками, чтобы он выглядел поприличнее, но результатом я остался доволен.\n",
    "Небольшое добавление - на сайте авто.ру информация о топливе для электромобилей записывается несколько не так, как нам хотелось бы ее видеть. Поэтому руками меняем то, что нам предлагает сайт."
   ]
  },
  {
   "cell_type": "code",
   "execution_count": 835,
   "id": "989ef919",
   "metadata": {
    "scrolled": true
   },
   "outputs": [],
   "source": [
    "columns = ['Название', 'Объем_двигателя', 'Лошадиные_силы', 'Топливо', 'Коробка_передач', \\\n",
    "           'Тип_кузова', 'Цена', 'Пробег', 'Расположение', 'Ссылка']\n",
    "index = range(3700)\n",
    "df = pd.DataFrame(data, index, columns)\n",
    "df['Пробег'] = df['Пробег'].replace('Новый', '0 км')\n",
    "df['Пробег'] = df['Пробег'].replace('км', '', regex = True).replace(' ', '', regex = True)\n",
    "df = df.astype({'Пробег': int})\n",
    "df['Коробка_передач'] = df['Коробка_передач'].replace('Заряд на 642 км', 'электрическая')\n",
    "df['Расположение'] = df['Расположение'].replace('станция ', '', regex = True)\n",
    "df['Расположение'] = df['Расположение'].apply(lambda x: str(x.split()[0]))\n",
    "df['Расположение'] = df['Расположение'].replace('[0-9]*', '', regex = True)\n",
    "df['Расположение'] = df['Расположение'].replace('Москва', '', regex = True)\n",
    "df['Расположение'] = df['Расположение'].replace('МоскворечьеКантемировская', 'Москворечье', regex = True)\n",
    "df['Расположение'] = df['Расположение'].replace('Парк', 'Парк Культуры', regex = True)\n",
    "df['Расположение'] = df['Расположение'].replace('БескудниковоСелигерская', 'Бескудниково', regex = True)\n",
    "df['Расположение'] = df['Расположение'].replace('Речной', 'Речной Вокзал', regex = True)\n",
    "df['Расположение'] = df['Расположение'].replace('Красный', 'Красный Балтиец', regex = True)\n",
    "df['Расположение'] = df['Расположение'].replace('ТестовскаяВыставочная', 'Тестовская', regex = True)\n",
    "df['Расположение'] = df['Расположение'].replace('СетуньРабочий', 'Сетунь', regex = True)"
   ]
  },
  {
   "cell_type": "code",
   "execution_count": 836,
   "id": "5e768b56",
   "metadata": {
    "scrolled": false
   },
   "outputs": [
    {
     "data": {
      "text/html": [
       "<div>\n",
       "<style scoped>\n",
       "    .dataframe tbody tr th:only-of-type {\n",
       "        vertical-align: middle;\n",
       "    }\n",
       "\n",
       "    .dataframe tbody tr th {\n",
       "        vertical-align: top;\n",
       "    }\n",
       "\n",
       "    .dataframe thead th {\n",
       "        text-align: right;\n",
       "    }\n",
       "</style>\n",
       "<table border=\"1\" class=\"dataframe\">\n",
       "  <thead>\n",
       "    <tr style=\"text-align: right;\">\n",
       "      <th></th>\n",
       "      <th>Название</th>\n",
       "      <th>Объем_двигателя</th>\n",
       "      <th>Лошадиные_силы</th>\n",
       "      <th>Топливо</th>\n",
       "      <th>Коробка_передач</th>\n",
       "      <th>Тип_кузова</th>\n",
       "      <th>Цена</th>\n",
       "      <th>Пробег</th>\n",
       "      <th>Расположение</th>\n",
       "      <th>Ссылка</th>\n",
       "    </tr>\n",
       "  </thead>\n",
       "  <tbody>\n",
       "    <tr>\n",
       "      <th>0</th>\n",
       "      <td>Mercedes-Benz Maybach S-Класс 580 II (Z223)</td>\n",
       "      <td>4.0</td>\n",
       "      <td>503</td>\n",
       "      <td>Бензин</td>\n",
       "      <td>автомат</td>\n",
       "      <td>седан</td>\n",
       "      <td>34780000</td>\n",
       "      <td>60</td>\n",
       "      <td>Шелепиха</td>\n",
       "      <td>https://auto.ru/cars/used/sale/mercedes/s_clas...</td>\n",
       "    </tr>\n",
       "    <tr>\n",
       "      <th>1</th>\n",
       "      <td>Mercedes-Benz Maybach S-Класс 580 II (Z223)</td>\n",
       "      <td>4.0</td>\n",
       "      <td>503</td>\n",
       "      <td>Бензин</td>\n",
       "      <td>автомат</td>\n",
       "      <td>седан</td>\n",
       "      <td>34950000</td>\n",
       "      <td>60</td>\n",
       "      <td>Шелепиха</td>\n",
       "      <td>https://auto.ru/cars/used/sale/mercedes/s_clas...</td>\n",
       "    </tr>\n",
       "    <tr>\n",
       "      <th>2</th>\n",
       "      <td>Mercedes-Benz Vito 110 CDI L1 III (W447)</td>\n",
       "      <td>2.0</td>\n",
       "      <td>102</td>\n",
       "      <td>Дизель</td>\n",
       "      <td>автомат</td>\n",
       "      <td>седан</td>\n",
       "      <td>6745000</td>\n",
       "      <td>0</td>\n",
       "      <td>Тула</td>\n",
       "      <td>https://auto.ru/cars/new/group/mercedes/vito/2...</td>\n",
       "    </tr>\n",
       "    <tr>\n",
       "      <th>3</th>\n",
       "      <td>Mercedes-Benz Maybach S-Класс 680 II (Z223)</td>\n",
       "      <td>6.0</td>\n",
       "      <td>612</td>\n",
       "      <td>Бензин</td>\n",
       "      <td>автомат</td>\n",
       "      <td>седан</td>\n",
       "      <td>36990000</td>\n",
       "      <td>30</td>\n",
       "      <td>Шелепиха</td>\n",
       "      <td>https://auto.ru/cars/used/sale/mercedes/s_clas...</td>\n",
       "    </tr>\n",
       "    <tr>\n",
       "      <th>4</th>\n",
       "      <td>Mercedes-Benz GLS 580 II (X167)</td>\n",
       "      <td>4.0</td>\n",
       "      <td>489</td>\n",
       "      <td>Бензин</td>\n",
       "      <td>автомат</td>\n",
       "      <td>седан</td>\n",
       "      <td>17570000</td>\n",
       "      <td>0</td>\n",
       "      <td>Южная</td>\n",
       "      <td>https://auto.ru/cars/new/group/mercedes/gls_kl...</td>\n",
       "    </tr>\n",
       "  </tbody>\n",
       "</table>\n",
       "</div>"
      ],
      "text/plain": [
       "                                      Название Объем_двигателя Лошадиные_силы  \\\n",
       "0  Mercedes-Benz Maybach S-Класс 580 II (Z223)             4.0            503   \n",
       "1  Mercedes-Benz Maybach S-Класс 580 II (Z223)             4.0            503   \n",
       "2     Mercedes-Benz Vito 110 CDI L1 III (W447)             2.0            102   \n",
       "3  Mercedes-Benz Maybach S-Класс 680 II (Z223)             6.0            612   \n",
       "4              Mercedes-Benz GLS 580 II (X167)             4.0            489   \n",
       "\n",
       "  Топливо Коробка_передач Тип_кузова      Цена  Пробег Расположение  \\\n",
       "0  Бензин         автомат      седан  34780000      60     Шелепиха   \n",
       "1  Бензин         автомат      седан  34950000      60     Шелепиха   \n",
       "2  Дизель         автомат      седан   6745000       0         Тула   \n",
       "3  Бензин         автомат      седан  36990000      30     Шелепиха   \n",
       "4  Бензин         автомат      седан  17570000       0        Южная   \n",
       "\n",
       "                                              Ссылка  \n",
       "0  https://auto.ru/cars/used/sale/mercedes/s_clas...  \n",
       "1  https://auto.ru/cars/used/sale/mercedes/s_clas...  \n",
       "2  https://auto.ru/cars/new/group/mercedes/vito/2...  \n",
       "3  https://auto.ru/cars/used/sale/mercedes/s_clas...  \n",
       "4  https://auto.ru/cars/new/group/mercedes/gls_kl...  "
      ]
     },
     "execution_count": 836,
     "metadata": {},
     "output_type": "execute_result"
    }
   ],
   "source": [
    "df.head(5)"
   ]
  },
  {
   "cell_type": "markdown",
   "id": "5564e3af",
   "metadata": {},
   "source": [
    "Давайте немного поизучаем наш датасет. Здесь группировка по типу кузова и средняя цена + пробег для каждого типа кузова. "
   ]
  },
  {
   "cell_type": "code",
   "execution_count": 850,
   "id": "635a0c04",
   "metadata": {
    "scrolled": false
   },
   "outputs": [
    {
     "data": {
      "text/html": [
       "<div>\n",
       "<style scoped>\n",
       "    .dataframe tbody tr th:only-of-type {\n",
       "        vertical-align: middle;\n",
       "    }\n",
       "\n",
       "    .dataframe tbody tr th {\n",
       "        vertical-align: top;\n",
       "    }\n",
       "\n",
       "    .dataframe thead th {\n",
       "        text-align: right;\n",
       "    }\n",
       "</style>\n",
       "<table border=\"1\" class=\"dataframe\">\n",
       "  <thead>\n",
       "    <tr style=\"text-align: right;\">\n",
       "      <th></th>\n",
       "      <th>Цена</th>\n",
       "      <th>Пробег</th>\n",
       "    </tr>\n",
       "    <tr>\n",
       "      <th>Тип_кузова</th>\n",
       "      <th></th>\n",
       "      <th></th>\n",
       "    </tr>\n",
       "  </thead>\n",
       "  <tbody>\n",
       "    <tr>\n",
       "      <th>внедорожник 5 дв.</th>\n",
       "      <td>9.260352e+06</td>\n",
       "      <td>71263.840952</td>\n",
       "    </tr>\n",
       "    <tr>\n",
       "      <th>купе</th>\n",
       "      <td>8.767356e+06</td>\n",
       "      <td>71940.054054</td>\n",
       "    </tr>\n",
       "    <tr>\n",
       "      <th>купе-хардтоп</th>\n",
       "      <td>1.154702e+07</td>\n",
       "      <td>64805.445946</td>\n",
       "    </tr>\n",
       "    <tr>\n",
       "      <th>лифтбек</th>\n",
       "      <td>1.151902e+07</td>\n",
       "      <td>74432.621622</td>\n",
       "    </tr>\n",
       "    <tr>\n",
       "      <th>минивэн</th>\n",
       "      <td>8.189553e+06</td>\n",
       "      <td>84523.333333</td>\n",
       "    </tr>\n",
       "    <tr>\n",
       "      <th>седан</th>\n",
       "      <td>8.929208e+06</td>\n",
       "      <td>76818.718799</td>\n",
       "    </tr>\n",
       "    <tr>\n",
       "      <th>хэтчбек 5 дв.</th>\n",
       "      <td>8.608562e+06</td>\n",
       "      <td>86644.752896</td>\n",
       "    </tr>\n",
       "  </tbody>\n",
       "</table>\n",
       "</div>"
      ],
      "text/plain": [
       "                           Цена        Пробег\n",
       "Тип_кузова                                   \n",
       "внедорожник 5 дв.  9.260352e+06  71263.840952\n",
       "купе               8.767356e+06  71940.054054\n",
       "купе-хардтоп       1.154702e+07  64805.445946\n",
       "лифтбек            1.151902e+07  74432.621622\n",
       "минивэн            8.189553e+06  84523.333333\n",
       "седан              8.929208e+06  76818.718799\n",
       "хэтчбек 5 дв.      8.608562e+06  86644.752896"
      ]
     },
     "execution_count": 850,
     "metadata": {},
     "output_type": "execute_result"
    }
   ],
   "source": [
    "df.groupby('Тип_кузова')[['Цена', 'Пробег']].mean()"
   ]
  },
  {
   "cell_type": "markdown",
   "id": "ffb3bfa0",
   "metadata": {},
   "source": [
    "Группировка по колонкам типа кузова и коробки передач, + вывод значений в отсортированном по убыванию порядке:"
   ]
  },
  {
   "cell_type": "code",
   "execution_count": 851,
   "id": "8c8d3866",
   "metadata": {
    "scrolled": true
   },
   "outputs": [
    {
     "data": {
      "text/plain": [
       "Тип_кузова         Коробка_передач\n",
       "внедорожник 5 дв.  автомат            1449\n",
       "седан              автомат            1266\n",
       "минивэн            автомат             393\n",
       "хэтчбек 5 дв.      робот               259\n",
       "внедорожник 5 дв.  робот               148\n",
       "купе               автомат              74\n",
       "купе-хардтоп       автомат              74\n",
       "лифтбек            электрическая        37\n",
       "dtype: int64"
      ]
     },
     "execution_count": 851,
     "metadata": {},
     "output_type": "execute_result"
    }
   ],
   "source": [
    "df.groupby(['Тип_кузова', 'Коробка_передач']).size().sort_values(ascending=False)"
   ]
  },
  {
   "cell_type": "markdown",
   "id": "3e6ddc53",
   "metadata": {},
   "source": [
    "Ради интереса (и чтобы заработать побольше баллов за использование Pandas) вычисленим экспоненциальное взвешенное скользящего среднего для цены автомобилей"
   ]
  },
  {
   "cell_type": "code",
   "execution_count": 853,
   "id": "b2c276e7",
   "metadata": {
    "scrolled": true
   },
   "outputs": [
    {
     "data": {
      "text/plain": [
       "0       3.478000e+07\n",
       "1       3.483667e+07\n",
       "2       2.547278e+07\n",
       "3       2.931185e+07\n",
       "4       2.539790e+07\n",
       "            ...     \n",
       "3695    8.817676e+06\n",
       "3696    6.928450e+06\n",
       "3697    6.038634e+06\n",
       "3698    5.025756e+06\n",
       "3699    4.933837e+06\n",
       "Name: Цена, Length: 3700, dtype: float64"
      ]
     },
     "execution_count": 853,
     "metadata": {},
     "output_type": "execute_result"
    }
   ],
   "source": [
    "df['Цена'].ewm(span=5, adjust=False).mean()"
   ]
  },
  {
   "cell_type": "markdown",
   "id": "521e4bb1",
   "metadata": {},
   "source": [
    "На случай, если вам захочется насладиться видом шикарных автомобилей, я сделал ссылки кликабельными:"
   ]
  },
  {
   "cell_type": "code",
   "execution_count": 838,
   "id": "07d10198",
   "metadata": {},
   "outputs": [],
   "source": [
    "def clickable_link_to_the_car(link): \n",
    "    return f'<a href=\"{link}\">{link}</a>'\n",
    "\n",
    "styled_df = df.style.format({'Ссылка': clickable_link_to_the_car})"
   ]
  },
  {
   "cell_type": "markdown",
   "id": "728c9283",
   "metadata": {},
   "source": [
    "Чтобы потыкать на ссылки, уберите решетку. Откроется большая таблица (которая на самом деле не совсем таблица)"
   ]
  },
  {
   "cell_type": "code",
   "execution_count": 880,
   "id": "bb606559",
   "metadata": {
    "scrolled": true
   },
   "outputs": [],
   "source": [
    "#styled_df"
   ]
  },
  {
   "cell_type": "markdown",
   "id": "19e1a387",
   "metadata": {},
   "source": [
    "Теперь можно и визуализировать что-нибудь. Начнем с распределения цен на \"Мерсы\" и немного удивимся - ожидалось увидеть распределение значительно правее. Наверное, многие из этих автомобилей с большим пробегом, а потому дешево продаются относительно цен в дилерских центрах."
   ]
  },
  {
   "cell_type": "code",
   "execution_count": 854,
   "id": "cdbfeb0d",
   "metadata": {
    "scrolled": false
   },
   "outputs": [
    {
     "data": {
      "image/png": "[encoded data removed]",
      "text/plain": [
       "<Figure size 640x480 with 1 Axes>"
      ]
     },
     "metadata": {},
     "output_type": "display_data"
    }
   ],
   "source": [
    "def thousands(x, pos):\n",
    "    return '{:,.0f}'.format(x/1000000).replace(',', ' ')\n",
    "prices = df['Цена']\n",
    "fig, ax = plt.subplots()\n",
    "ax.hist(prices, bins=50)\n",
    "ax.xaxis.set_major_formatter(FuncFormatter(thousands)) \n",
    "plt.title('Распределение цен на автомобили')\n",
    "plt.xlabel('Цена, миллионов руб.')\n",
    "plt.ylabel('Количество автомобилей')\n",
    "plt.show()"
   ]
  },
  {
   "cell_type": "markdown",
   "id": "3147d286",
   "metadata": {},
   "source": [
    "Теперь посмотрим, какая доля автомобилей с какой коробкой передач. Как можно видеть, в нашей выборке преобладают Мерседесы с автоматической коробкой. Что неудивительно - они в целом среди Мерседесов преобладают."
   ]
  },
  {
   "cell_type": "code",
   "execution_count": 856,
   "id": "03ab3ded",
   "metadata": {
    "scrolled": false
   },
   "outputs": [
    {
     "data": {
      "image/png": "[encoded data removed]",
      "text/plain": [
       "<Figure size 640x480 with 1 Axes>"
      ]
     },
     "metadata": {},
     "output_type": "display_data"
    }
   ],
   "source": [
    "counts = df['Коробка_передач'].value_counts()\n",
    "labels = counts.index.tolist()\n",
    "sizes = (counts/counts.sum()).tolist()\n",
    "colors = ['gold', 'yellowgreen', 'lightcoral', 'lightskyblue']\n",
    "plt.pie(sizes, labels=labels, colors=colors,\n",
    "        autopct='%1.1f%%', startangle=140)\n",
    "plt.title('Доли автомобилей с разными типами коробок передач')\n",
    "plt.show()"
   ]
  },
  {
   "cell_type": "markdown",
   "id": "9e87296c",
   "metadata": {},
   "source": [
    "Чуть выше я обмолвился, что чем больше у автомобиля пробег, тем меньше он стоит. Давайте на примере нашей выборки посмотрим, правда ли это. Построим линейную регрессию для предсказания стоимости автомобиля по пробегу. Она, конечно, не очень сложная, но зато своя и понятная. Заодно посчитаем коэффициент корреляции и убедимся еще раз, что высок шанс того, что чем больше пробег, тем меньше цена (при прочих равных)."
   ]
  },
  {
   "cell_type": "code",
   "execution_count": 857,
   "id": "8b84277c",
   "metadata": {
    "scrolled": false
   },
   "outputs": [
    {
     "data": {
      "image/png": "[encoded data removed]",
      "text/plain": [
       "<Figure size 640x480 with 1 Axes>"
      ]
     },
     "metadata": {},
     "output_type": "display_data"
    }
   ],
   "source": [
    "X = df[['Пробег']]\n",
    "y = df['Цена']\n",
    "model = LinearRegression()\n",
    "model.fit(X, y)\n",
    "plt.scatter(X, y, color='blue')\n",
    "plt.plot(X, model.predict(X), color='red')\n",
    "plt.xlabel('Пробег')\n",
    "plt.ylabel('Цена')\n",
    "plt.show()"
   ]
  },
  {
   "cell_type": "code",
   "execution_count": 873,
   "id": "87ec2600",
   "metadata": {},
   "outputs": [
    {
     "data": {
      "text/plain": [
       "-0.6161155709188524"
      ]
     },
     "execution_count": 873,
     "metadata": {},
     "output_type": "execute_result"
    }
   ],
   "source": [
    "df['Цена'].corr(df['Пробег'])"
   ]
  },
  {
   "cell_type": "markdown",
   "id": "bb97857f",
   "metadata": {},
   "source": [
    "На фоне всей это замурчательности Мерседесов хотелось бы узнать, где их купить. Разумеется, перейдя по (кликабельным!) ссылкам из моего датасета можно пристрелиться, но многие все же предпочитают ехать к официальным поставщикам. Где их найти? Сейчас будем узнавать. Пока что готовим данные, используя суп и \"селениум\". Запишем адреса в файлик. Затем пробьем адреса и вычислим координаты. Запишем это дело в массив. После некоторого количества манипуляций таки получаем аккуратный датафрейм."
   ]
  },
  {
   "cell_type": "code",
   "execution_count": 862,
   "id": "67688ebb",
   "metadata": {},
   "outputs": [],
   "source": [
    "url = 'https://www.auto-dealer.ru/dealers/city-moscow/mark-mercedes-benz/?city=moscow&brand=mercedes-benz'\n",
    "browser = webdriver.Chrome()\n",
    "browser.get(url)\n",
    "response = requests.get(url)\n",
    "soup = BeautifulSoup(response.content, 'html.parser')\n",
    "results = soup.findAll('div', class_ = \"dealers-list__item\")\n",
    "with open('mercedes_dealers.txt', 'w', encoding = 'utf-8') as file:\n",
    "    for result in results:\n",
    "        address = result.find('div', {'class': 'dealers-list__address'}).text.strip()\n",
    "        print(address, file = file)\n",
    "browser.find_element(By.CLASS_NAME, 'bx-pag-next').click()\n",
    "sleep(3)\n",
    "response2 = browser.page_source\n",
    "soup2 = BeautifulSoup(response2, 'html.parser')\n",
    "results2 = soup2.findAll('div', class_ = \"dealers-list__item\")\n",
    "with open('mercedes_dealers.txt', 'a', encoding = 'utf-8') as file: # use 'a' to append to the file instead of overwriting it\n",
    "    for result2 in results2:\n",
    "        address2 = result2.find('div', {'class': 'dealers-list__address'}).text.strip()\n",
    "        print(address2, file = file)"
   ]
  },
  {
   "cell_type": "code",
   "execution_count": 826,
   "id": "ceef06ec",
   "metadata": {},
   "outputs": [
    {
     "name": "stdout",
     "output_type": "stream",
     "text": [
      "       широта    долгота\n",
      "0   55.713950  37.719608\n",
      "1   55.752977  37.605140\n",
      "2   55.658865  37.895242\n",
      "3   55.894015  37.697972\n",
      "4   55.908162  37.408256\n",
      "5   55.621211  37.616396\n",
      "6   55.593995  37.734955\n",
      "7   55.784395  37.622244\n",
      "8   55.800559  37.284010\n",
      "9   55.653456  37.518129\n",
      "10  55.784627  37.869999\n",
      "11  55.795585  37.541099\n",
      "12  55.917934  37.583886\n",
      "13  55.679057  37.419781\n",
      "14  55.736640  37.246865\n"
     ]
    }
   ],
   "source": [
    "coordinates = ['55.713949997657366,37.71960812526574', '55.752977,37.60514', '55.658865,37.895242', \\\n",
    "               '55.894015,37.697972', '55.908162,37.408256', '55.621211,37.616396', '55.593995,37.734955', \\\n",
    "              '55.784395,37.622244', '55.800559,37.28401', '55.653456,37.518129', '55.784627,37.869999', \\\n",
    "              '55.795585,37.541099', '55.917934,37.583886', '55.679057,37.419781', '55.73664,37.246865']\n",
    "\n",
    "df_1 = pd.DataFrame([i.split(',') for i in coordinates], columns=['широта', 'долгота'])\n",
    "df_1['широта'] = df_1['широта'].astype(float)\n",
    "df_1['долгота'] = df_1['долгота'].astype(float)\n",
    "print(df_1)"
   ]
  },
  {
   "cell_type": "markdown",
   "id": "6bc27092",
   "metadata": {},
   "source": [
    "Создаем карту, указав координаты Москвы "
   ]
  },
  {
   "cell_type": "code",
   "execution_count": 860,
   "id": "8e57aea0",
   "metadata": {},
   "outputs": [],
   "source": [
    "moscow_coordinates = [55.7558, 37.6173] \n",
    "m = folium.Map(location=moscow_coordinates, zoom_start=11) "
   ]
  },
  {
   "cell_type": "markdown",
   "id": "93845b56",
   "metadata": {},
   "source": [
    "Затем создадим объект типа FeatureGroup и добавим на карту точки из датафрейма df_1. В результате получаем симпатичную карту, которую можно и повертеть, и подергать. Главное - все салоны на месте. Возможно, при переносе координат, они слегка сместились, или часть из них переместилась\\покинула Россию официально, но по этим меткам точно можно ехать и покупать себе Мерседес. Красота!"
   ]
  },
  {
   "cell_type": "code",
   "execution_count": 861,
   "id": "c8944d83",
   "metadata": {},
   "outputs": [
    {
     "data": {
      "text/html": [
       "<div style=\"width:100%;\"><div style=\"position:relative;width:100%;height:0;padding-bottom:60%;\"><span style=\"color:#565656\">Make this Notebook Trusted to load map: File -> Trust Notebook</span><iframe srcdoc=\"&lt;!DOCTYPE html&gt;\n",
       "&lt;html&gt;\n",
       "&lt;head&gt;\n",
       "    \n",
       "    &lt;meta http-equiv=&quot;content-type&quot; content=&quot;text/html; charset=UTF-8&quot; /&gt;\n",
       "    \n",
       "        &lt;script&gt;\n",
       "            L_NO_TOUCH = false;\n",
       "            L_DISABLE_3D = false;\n",
       "        &lt;/script&gt;\n",
       "    \n",
       "    &lt;style&gt;html, body {width: 100%;height: 100%;margin: 0;padding: 0;}&lt;/style&gt;\n",
       "    &lt;style&gt;#map {position:absolute;top:0;bottom:0;right:0;left:0;}&lt;/style&gt;\n",
       "    &lt;script src=&quot;https://cdn.jsdelivr.net/npm/leaflet@1.9.3/dist/leaflet.js&quot;&gt;&lt;/script&gt;\n",
       "    &lt;script src=&quot;https://code.jquery.com/jquery-1.12.4.min.js&quot;&gt;&lt;/script&gt;\n",
       "    &lt;script src=&quot;https://cdn.jsdelivr.net/npm/bootstrap@5.2.2/dist/js/bootstrap.bundle.min.js&quot;&gt;&lt;/script&gt;\n",
       "    &lt;script src=&quot;https://cdnjs.cloudflare.com/ajax/libs/Leaflet.awesome-markers/2.0.2/leaflet.awesome-markers.js&quot;&gt;&lt;/script&gt;\n",
       "    &lt;link rel=&quot;stylesheet&quot; href=&quot;https://cdn.jsdelivr.net/npm/leaflet@1.9.3/dist/leaflet.css&quot;/&gt;\n",
       "    &lt;link rel=&quot;stylesheet&quot; href=&quot;https://cdn.jsdelivr.net/npm/bootstrap@5.2.2/dist/css/bootstrap.min.css&quot;/&gt;\n",
       "    &lt;link rel=&quot;stylesheet&quot; href=&quot;https://netdna.bootstrapcdn.com/bootstrap/3.0.0/css/bootstrap.min.css&quot;/&gt;\n",
       "    &lt;link rel=&quot;stylesheet&quot; href=&quot;https://cdn.jsdelivr.net/npm/@fortawesome/fontawesome-free@6.2.0/css/all.min.css&quot;/&gt;\n",
       "    &lt;link rel=&quot;stylesheet&quot; href=&quot;https://cdnjs.cloudflare.com/ajax/libs/Leaflet.awesome-markers/2.0.2/leaflet.awesome-markers.css&quot;/&gt;\n",
       "    &lt;link rel=&quot;stylesheet&quot; href=&quot;https://cdn.jsdelivr.net/gh/python-visualization/folium/folium/templates/leaflet.awesome.rotate.min.css&quot;/&gt;\n",
       "    \n",
       "            &lt;meta name=&quot;viewport&quot; content=&quot;width=device-width,\n",
       "                initial-scale=1.0, maximum-scale=1.0, user-scalable=no&quot; /&gt;\n",
       "            &lt;style&gt;\n",
       "                #map_b4e074f9ec70d9bb06eb9cfe472f3183 {\n",
       "                    position: relative;\n",
       "                    width: 100.0%;\n",
       "                    height: 100.0%;\n",
       "                    left: 0.0%;\n",
       "                    top: 0.0%;\n",
       "                }\n",
       "                .leaflet-container { font-size: 1rem; }\n",
       "            &lt;/style&gt;\n",
       "        \n",
       "&lt;/head&gt;\n",
       "&lt;body&gt;\n",
       "    \n",
       "    \n",
       "            &lt;div class=&quot;folium-map&quot; id=&quot;map_b4e074f9ec70d9bb06eb9cfe472f3183&quot; &gt;&lt;/div&gt;\n",
       "        \n",
       "&lt;/body&gt;\n",
       "&lt;script&gt;\n",
       "    \n",
       "    \n",
       "            var map_b4e074f9ec70d9bb06eb9cfe472f3183 = L.map(\n",
       "                &quot;map_b4e074f9ec70d9bb06eb9cfe472f3183&quot;,\n",
       "                {\n",
       "                    center: [55.7558, 37.6173],\n",
       "                    crs: L.CRS.EPSG3857,\n",
       "                    zoom: 11,\n",
       "                    zoomControl: true,\n",
       "                    preferCanvas: false,\n",
       "                }\n",
       "            );\n",
       "\n",
       "            \n",
       "\n",
       "        \n",
       "    \n",
       "            var tile_layer_91785d7712d54f35476e7595a46e7b59 = L.tileLayer(\n",
       "                &quot;https://{s}.tile.openstreetmap.org/{z}/{x}/{y}.png&quot;,\n",
       "                {&quot;attribution&quot;: &quot;Data by \\u0026copy; \\u003ca target=\\&quot;_blank\\&quot; href=\\&quot;http://openstreetmap.org\\&quot;\\u003eOpenStreetMap\\u003c/a\\u003e, under \\u003ca target=\\&quot;_blank\\&quot; href=\\&quot;http://www.openstreetmap.org/copyright\\&quot;\\u003eODbL\\u003c/a\\u003e.&quot;, &quot;detectRetina&quot;: false, &quot;maxNativeZoom&quot;: 18, &quot;maxZoom&quot;: 18, &quot;minZoom&quot;: 0, &quot;noWrap&quot;: false, &quot;opacity&quot;: 1, &quot;subdomains&quot;: &quot;abc&quot;, &quot;tms&quot;: false}\n",
       "            ).addTo(map_b4e074f9ec70d9bb06eb9cfe472f3183);\n",
       "        \n",
       "    \n",
       "            var feature_group_64edd2031bd190cbb78eee3d074580ec = L.featureGroup(\n",
       "                {}\n",
       "            ).addTo(map_b4e074f9ec70d9bb06eb9cfe472f3183);\n",
       "        \n",
       "    \n",
       "            var marker_64eed22fae69170b82fda0ed5657cbda = L.marker(\n",
       "                [55.713949997657366, 37.71960812526574],\n",
       "                {}\n",
       "            ).addTo(feature_group_64edd2031bd190cbb78eee3d074580ec);\n",
       "        \n",
       "    \n",
       "            var marker_fa62176a6588263adb686eca6d1b473a = L.marker(\n",
       "                [55.752977, 37.60514],\n",
       "                {}\n",
       "            ).addTo(feature_group_64edd2031bd190cbb78eee3d074580ec);\n",
       "        \n",
       "    \n",
       "            var marker_215d3017f874cfabb47453e3a36a402d = L.marker(\n",
       "                [55.658865, 37.895242],\n",
       "                {}\n",
       "            ).addTo(feature_group_64edd2031bd190cbb78eee3d074580ec);\n",
       "        \n",
       "    \n",
       "            var marker_3cf1a6b101ce50dc547f8910fbb195bf = L.marker(\n",
       "                [55.894015, 37.697972],\n",
       "                {}\n",
       "            ).addTo(feature_group_64edd2031bd190cbb78eee3d074580ec);\n",
       "        \n",
       "    \n",
       "            var marker_e227b9713578e3945536133e630e5c42 = L.marker(\n",
       "                [55.908162, 37.408256],\n",
       "                {}\n",
       "            ).addTo(feature_group_64edd2031bd190cbb78eee3d074580ec);\n",
       "        \n",
       "    \n",
       "            var marker_a1281f403ff77079a009d40a8a456f61 = L.marker(\n",
       "                [55.621211, 37.616396],\n",
       "                {}\n",
       "            ).addTo(feature_group_64edd2031bd190cbb78eee3d074580ec);\n",
       "        \n",
       "    \n",
       "            var marker_76a621dfed57bee4f8d6699da7ffd770 = L.marker(\n",
       "                [55.593995, 37.734955],\n",
       "                {}\n",
       "            ).addTo(feature_group_64edd2031bd190cbb78eee3d074580ec);\n",
       "        \n",
       "    \n",
       "            var marker_f3c22f5aba804df52485a958653ef913 = L.marker(\n",
       "                [55.784395, 37.622244],\n",
       "                {}\n",
       "            ).addTo(feature_group_64edd2031bd190cbb78eee3d074580ec);\n",
       "        \n",
       "    \n",
       "            var marker_e572a4140fff052edd2d6967a879a8bc = L.marker(\n",
       "                [55.800559, 37.28401],\n",
       "                {}\n",
       "            ).addTo(feature_group_64edd2031bd190cbb78eee3d074580ec);\n",
       "        \n",
       "    \n",
       "            var marker_82fe5f957a206efc8125cb19ed89810b = L.marker(\n",
       "                [55.653456, 37.518129],\n",
       "                {}\n",
       "            ).addTo(feature_group_64edd2031bd190cbb78eee3d074580ec);\n",
       "        \n",
       "    \n",
       "            var marker_0a3bee9250e5eb075f6deb39cc26436b = L.marker(\n",
       "                [55.784627, 37.869999],\n",
       "                {}\n",
       "            ).addTo(feature_group_64edd2031bd190cbb78eee3d074580ec);\n",
       "        \n",
       "    \n",
       "            var marker_d991cf379c748c92c8d27768db722b38 = L.marker(\n",
       "                [55.795585, 37.541099],\n",
       "                {}\n",
       "            ).addTo(feature_group_64edd2031bd190cbb78eee3d074580ec);\n",
       "        \n",
       "    \n",
       "            var marker_fb17938eb814d75282583f0522e4f50f = L.marker(\n",
       "                [55.917934, 37.583886],\n",
       "                {}\n",
       "            ).addTo(feature_group_64edd2031bd190cbb78eee3d074580ec);\n",
       "        \n",
       "    \n",
       "            var marker_e2a40b44cb5ca43a90cca0d0c62749c4 = L.marker(\n",
       "                [55.679057, 37.419781],\n",
       "                {}\n",
       "            ).addTo(feature_group_64edd2031bd190cbb78eee3d074580ec);\n",
       "        \n",
       "    \n",
       "            var marker_3c2e2795c7f93dccc1f6014dc9934461 = L.marker(\n",
       "                [55.73664, 37.246865],\n",
       "                {}\n",
       "            ).addTo(feature_group_64edd2031bd190cbb78eee3d074580ec);\n",
       "        \n",
       "&lt;/script&gt;\n",
       "&lt;/html&gt;\" style=\"position:absolute;width:100%;height:100%;left:0;top:0;border:none !important;\" allowfullscreen webkitallowfullscreen mozallowfullscreen></iframe></div></div>"
      ],
      "text/plain": [
       "<folium.folium.Map at 0x22696694cd0>"
      ]
     },
     "execution_count": 861,
     "metadata": {},
     "output_type": "execute_result"
    }
   ],
   "source": [
    "locations = df_1[['широта', 'долгота']].values.tolist() \n",
    "\n",
    "fg = folium.FeatureGroup(name=\"Точки на карте\")\n",
    "for location in locations:\n",
    "    fg.add_child(folium.Marker(location=location))\n",
    "m.add_child(fg)"
   ]
  },
  {
   "cell_type": "markdown",
   "id": "dcec9dee",
   "metadata": {},
   "source": [
    "На этом у меня пока что все. В дальнейшем я решил не забрасывать проект и еще что-нибудь поделать с ним. Например, запилить тг-бота, который будет скидывать рандомные объявления о продаже Мерседесов при нажатии на кнопку. Чтобы добавить боту немного чувства юмора, я планирую добавить шанс скинуть ссылку на видеоклип одной известной песни на Ютубе. Собственно, я пытался написать бота, но пока что не получилось, и я решил не добавлять эту часть в проект. Спасибо за внимание"
   ]
  }
 ],
 "metadata": {
  "kernelspec": {
   "display_name": "Python 3 (ipykernel)",
   "language": "python",
   "name": "python3"
  },
  "language_info": {
   "codemirror_mode": {
    "name": "ipython",
    "version": 3
   },
   "file_extension": ".py",
   "mimetype": "text/x-python",
   "name": "python",
   "nbconvert_exporter": "python",
   "pygments_lexer": "ipython3",
   "version": "3.9.13"
  }
 },
 "nbformat": 4,
 "nbformat_minor": 5
}
